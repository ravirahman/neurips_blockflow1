{
 "cells": [
  {
   "cell_type": "code",
   "execution_count": null,
   "metadata": {},
   "outputs": [],
   "source": [
    "RESULTS_FOLDER = \"/path/to/results/folder\""
   ]
  },
  {
   "cell_type": "code",
   "execution_count": null,
   "metadata": {},
   "outputs": [],
   "source": [
    "import os\n",
    "\n",
    "import numpy as np\n",
    "import matplotlib.pyplot as plt\n",
    "import matplotlib\n",
    "import scipy.stats\n",
    "matplotlib.rc('font', family='serif', size=24)\n",
    "matplotlib.rc('errorbar', capsize=3)"
   ]
  },
  {
   "cell_type": "code",
   "execution_count": null,
   "metadata": {},
   "outputs": [],
   "source": [
    "suffix = os.path.join(\"inv_lambda-1.0_epsilon-0.01_apply_dp-True\", \"data_dp_round_1.npz\")\n",
    "def _load_data(exp_name, attack_type):\n",
    "    return {\n",
    "        1: np.load(os.path.join(RESULTS_FOLDER, exp_name, f\"split_attack_{attack_type}_50_one_validation_fraction_0.2\", suffix)),\n",
    "        12: np.load(os.path.join(RESULTS_FOLDER, exp_name, f\"split_attack_{attack_type}_50_quarter_validation_fraction_0.2\",  suffix)),\n",
    "        24: np.load(os.path.join(RESULTS_FOLDER, exp_name, f\"split_attack_{attack_type}_50_half_validation_fraction_0.2\", suffix)),\n",
    "    }\n",
    "adult_random = _load_data(\"adult\", \"random\")\n",
    "kdd99_random = _load_data(\"kdd99\", \"random\")\n",
    "adult_inverted = _load_data(\"adult\", \"inverted\")\n",
    "kdd99_random = _load_data(\"kdd99\", \"inverted\")"
   ]
  },
  {
   "cell_type": "code",
   "execution_count": null,
   "metadata": {},
   "outputs": [],
   "source": [
    "def plot(ax, label, client_data, ylabel: bool = False, legend = False):\n",
    "    ax.set_title(label)\n",
    "    ax.grid(which='both', axis='y')\n",
    "    ax.grid(which='major', axis='x')\n",
    "    ax.minorticks_on()\n",
    "    \n",
    "    ax.set_xlabel(\"# of\\n Malicious Agents\")\n",
    "    ax.set_xbound(0, 25)\n",
    "    ax.set_xticks([1, 12, 24], minor=False)\n",
    "    ax.xaxis.set_minor_formatter(plt.NullFormatter())\n",
    "    ax.set_autoscalex_on(False)\n",
    "    # ax.set_xticklabels(['{:.2f}'.format(x) for x in ax.get_xticks()])\n",
    "    \n",
    "    if ylabel:\n",
    "        ax.set_ylabel(\"Overall\\n Score ($p_k$)\")\n",
    "    ax.set_ybound(0.0, 1.0)\n",
    "    ax.set_yticks([0, 0.5, 1.0], minor=False)\n",
    "    ax.set_yticks([0.25, 0.75], minor=True)\n",
    "    ax.set_autoscaley_on(False)\n",
    "    ax.set_yticklabels(['{:.1f}'.format(x) for x in ax.get_yticks()])\n",
    "\n",
    "    fmt = ['gD', 'ms']\n",
    "    \n",
    "    xs = list(key for key in client_data.keys())\n",
    "    special_means_pct = []\n",
    "    special_lower_pct_errors = []\n",
    "    special_upper_pct_errors = []\n",
    "    normal_means_pct = []\n",
    "    normal_lower_pct_errors = []\n",
    "    normal_upper_pct_errors = []\n",
    "    for num_special_clients, data in client_data.items():\n",
    "        all_scores = np.squeeze(data[\"overall_score\"])\n",
    "        normal_y = all_scores[:-num_special_clients]\n",
    "        special_y = all_scores[-num_special_clients:]\n",
    "        print(scipy.stats.ttest_ind(special_y, normal_y))\n",
    "        for y, means_pct, lower_pct_errors, upper_pct_errors in ((special_y, special_means_pct, special_lower_pct_errors, special_upper_pct_errors),\n",
    "                  (normal_y, normal_means_pct, normal_lower_pct_errors, normal_upper_pct_errors)):\n",
    "            mean = np.mean(y)\n",
    "            mean_pct = scipy.stats.percentileofscore(all_scores, mean) / 100\n",
    "            means_pct.append(mean)\n",
    "            std = np.std(y)\n",
    "            lower_pct = scipy.stats.percentileofscore(all_scores, mean - std) / 100\n",
    "            lower_pct_errors.append(std)\n",
    "            upper_pct = scipy.stats.percentileofscore(all_scores, mean + std) / 100\n",
    "            upper_pct_errors.append(std)\n",
    "    ax.errorbar(xs, normal_means_pct, yerr=[normal_lower_pct_errors, normal_upper_pct_errors], fmt=fmt[0], label=f\"Honest Agents\", markersize=12)\n",
    "    ax.errorbar(xs, special_means_pct, yerr=[special_lower_pct_errors, special_upper_pct_errors], fmt=fmt[1], label=f\"Malicious Agents\", markersize=12)\n",
    "    if legend:\n",
    "        ax.legend(loc='center left', bbox_to_anchor=(1.1, 0.5))"
   ]
  },
  {
   "cell_type": "code",
   "execution_count": null,
   "metadata": {},
   "outputs": [],
   "source": [
    "fig, (ax1, ax2, ax3, ax4) = plt.subplots(1, 4, figsize=(30,5), sharey=True)\n",
    "\n",
    "plot(ax1, \"Adult - Random Agents\", adult_random, ylabel=True)\n",
    "plot(ax2, \"KDD - Random Agents\", kdd99_random)\n",
    "plot(ax3, \"Adult - Inverted Agents\", adult_inverted)\n",
    "plot(ax4, \"KDD - Inverted Agents\", kdd99_random, legend=True)\n",
    "\n",
    "# plot(ax4, , title=\"KDD - Model ($m_k$)\", series=\"model_scores\")\n",
    "# plot(ax5, kdd_client_data, title=\"KDD - Evaluation ($d_k$)\", series=\"auditor_score\")\n",
    "# plot(ax6, kdd_client_data, title=\"KDD - Overall ($p_k$)\", series=\"overall_score\")\n",
    "plt.tight_layout()\n",
    "plt.savefig(\"exp4.pdf\")\n",
    "plt"
   ]
  }
 ],
 "metadata": {
  "environment": {
   "name": "common-cpu.m46",
   "type": "gcloud",
   "uri": "gcr.io/deeplearning-platform-release/base-cpu:m46"
  },
  "kernelspec": {
   "display_name": "Python 3",
   "language": "python",
   "name": "python3"
  },
  "language_info": {
   "codemirror_mode": {
    "name": "ipython",
    "version": 3
   },
   "file_extension": ".py",
   "mimetype": "text/x-python",
   "name": "python",
   "nbconvert_exporter": "python",
   "pygments_lexer": "ipython3",
   "version": "3.7.6"
  }
 },
 "nbformat": 4,
 "nbformat_minor": 4
}
