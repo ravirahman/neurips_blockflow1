{
 "cells": [
  {
   "cell_type": "code",
   "execution_count": null,
   "metadata": {},
   "outputs": [],
   "source": [
    "REPO_FOLDER = \"../src\"\n",
    "RESULTS_FOLDER = \"/path/to/results/folder\""
   ]
  },
  {
   "cell_type": "code",
   "execution_count": null,
   "metadata": {},
   "outputs": [],
   "source": [
    "%load_ext autoreload\n",
    "%autoreload 2\n",
    "\n",
    "import sys\n",
    "from typing import Sequence, Optional\n",
    "import os\n",
    "import json\n",
    "\n",
    "import numpy as np\n",
    "\n",
    "sys.path.append(REPO_FOLDER)\n",
    "\n",
    "from blockflow.simulator import compute_other_scores, FakeContractParameters, save\n",
    "from blockflow.model import ModelFactory"
   ]
  },
  {
   "cell_type": "code",
   "execution_count": null,
   "metadata": {},
   "outputs": [],
   "source": [
    "def _rescore(folder_path: str, dp_round: int, reward_pool: np.ndarray, contract_parameters: FakeContractParameters, num_dishonest_clients: Optional[int] = None, zero_others: Optional[bool] = None, out_folder_path: Optional[str] = None):\n",
    "    if out_folder_path is None:\n",
    "        out_folder_path = folder_path\n",
    "    with np.load(os.path.join(folder_path, f\"data_dp_round_{dp_round}.npz\"), \"r\", allow_pickle=True) as data:\n",
    "        score_matrix = data['score_matrix']  \n",
    "        ground_truth_scores = data['ground_truth_scores']\n",
    "    # let the dishonest clients fuck themselves\n",
    "    # the first num_dishonest_clients are dishonest\n",
    "    if num_dishonest_clients is not None:\n",
    "        if zero_others is None:\n",
    "            raise TypeError(\"if there are dishonest clients, then zero_others must be specified\")\n",
    "        score_matrix[:num_dishonest_clients, :num_dishonest_clients] = 1.0  # give each-other 1s\n",
    "        if zero_others:\n",
    "            score_matrix[:num_dishonest_clients, num_dishonest_clients:] = 0.0  # and give everyone else 0s\n",
    "    median_model_scores, auditor_scores, overall_scores, refund_amount = compute_other_scores(score_matrix, dp_round, reward_pool, contract_parameters)\n",
    "    os.makedirs(out_folder_path, exist_ok=True)\n",
    "    print(f\"about to save to {out_folder_path}\")\n",
    "    save(out_folder_path, dp_round, score_matrix, ground_truth_scores, median_model_scores, auditor_scores, overall_scores, refund_amount)"
   ]
  },
  {
   "cell_type": "code",
   "execution_count": null,
   "metadata": {},
   "outputs": [],
   "source": [
    "def rescore(folder_path: str, num_dishonest_clients: Optional[int] = None, zero_others: Optional[bool] = None, out_folder_path: Optional[str] = None):\n",
    "    with open(os.path.join(folder_path, \"contract_parameters.json\"), \"r\") as f:\n",
    "        contract_parameters = FakeContractParameters(**json.load(f))\n",
    "    with np.load(os.path.join(folder_path, \"data_dp_round_1.npz\"), \"r\", allow_pickle=True) as data:\n",
    "        num_clients = len(data['score_matrix'])\n",
    "    reward_pool = np.array(num_clients, dtype=np.float)\n",
    "    for dp_round in range(1, 1+contract_parameters.num_dp_rounds):\n",
    "        _rescore(folder_path, dp_round, reward_pool, contract_parameters, num_dishonest_clients, zero_others, out_folder_path)"
   ]
  },
  {
   "cell_type": "code",
   "execution_count": null,
   "metadata": {},
   "outputs": [],
   "source": [
    "def exp_3(exp_name: str):\n",
    "    base_dir = os.path.join(RESULTS_FOLDER, f\"{exp_name}/split_sym_eq_50_validation_fraction_0.2/inv_lambda-1.0_epsilon-0.01_apply_dp-True\")\n",
    "    num_dishonest_clients = (1, 12, 24)\n",
    "    for num_dishonest in num_dishonest_clients:\n",
    "        for zero_others in (True, False):\n",
    "            new_out_dir = os.path.join(base_dir, f\"scoring_dishonest-{num_dishonest}_zero_others-{zero_others}\")\n",
    "            rescore(base_dir, num_dishonest, zero_others, new_out_dir)"
   ]
  },
  {
   "cell_type": "code",
   "execution_count": null,
   "metadata": {},
   "outputs": [],
   "source": [
    "exp_3(\"kdd99\")"
   ]
  },
  {
   "cell_type": "code",
   "execution_count": null,
   "metadata": {},
   "outputs": [],
   "source": [
    "exp_3(\"adult\")"
   ]
  },
  {
   "cell_type": "code",
   "execution_count": null,
   "metadata": {},
   "outputs": [],
   "source": []
  }
 ],
 "metadata": {
  "environment": {
   "name": "common-cpu.m46",
   "type": "gcloud",
   "uri": "gcr.io/deeplearning-platform-release/base-cpu:m46"
  },
  "kernelspec": {
   "display_name": "Python 3",
   "language": "python",
   "name": "python3"
  },
  "language_info": {
   "codemirror_mode": {
    "name": "ipython",
    "version": 3
   },
   "file_extension": ".py",
   "mimetype": "text/x-python",
   "name": "python",
   "nbconvert_exporter": "python",
   "pygments_lexer": "ipython3",
   "version": "3.7.6"
  }
 },
 "nbformat": 4,
 "nbformat_minor": 4
}
