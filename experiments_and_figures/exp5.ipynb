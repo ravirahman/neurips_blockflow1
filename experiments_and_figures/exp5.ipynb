{
 "cells": [
  {
   "cell_type": "code",
   "execution_count": null,
   "metadata": {},
   "outputs": [],
   "source": [
    "RESULTS_FOLDER = \"/path/to/results/folder\""
   ]
  },
  {
   "cell_type": "code",
   "execution_count": null,
   "metadata": {},
   "outputs": [],
   "source": [
    "import os\n",
    "\n",
    "import numpy as np\n",
    "import scipy.stats"
   ]
  },
  {
   "cell_type": "code",
   "execution_count": null,
   "metadata": {},
   "outputs": [],
   "source": [
    "def skip_header(filepath):\n",
    "    with open(filepath, \"r\") as f:\n",
    "        data = f.readlines()[1:]\n",
    "        for row in data:\n",
    "            yield row\n",
    "raw_data = np.loadtxt('gas_results.csv'), delimiter=',')\n",
    "raw_data"
   ]
  },
  {
   "cell_type": "code",
   "execution_count": null,
   "metadata": {},
   "outputs": [],
   "source": [
    "feature_matrix = np.zeros((len(raw_data), 3))\n",
    "feature_matrix[:, 0] = raw_data[:, 0]\n",
    "feature_matrix[:, 1] = raw_data[:, 1]\n",
    "feature_matrix[:, 2] = raw_data[:, 0] * raw_data[:, 1]\n",
    "x, residuals, rank, s = np.linalg.lstsq(feature_matrix, raw_data[:, 2])\n",
    "x"
   ]
  },
  {
   "cell_type": "code",
   "execution_count": null,
   "metadata": {},
   "outputs": [],
   "source": [
    "y_pred = feature_matrix @ x\n",
    "y_act = raw_data[:, 2]\n",
    "r, p = scipy.stats.pearsonr(y_pred, y_act)\n",
    "(r, p, r**2)"
   ]
  },
  {
   "cell_type": "code",
   "execution_count": null,
   "metadata": {},
   "outputs": [],
   "source": []
  }
 ],
 "metadata": {
  "environment": {
   "name": "common-cpu.m46",
   "type": "gcloud",
   "uri": "gcr.io/deeplearning-platform-release/base-cpu:m46"
  },
  "kernelspec": {
   "display_name": "Python 3",
   "language": "python",
   "name": "python3"
  },
  "language_info": {
   "codemirror_mode": {
    "name": "ipython",
    "version": 3
   },
   "file_extension": ".py",
   "mimetype": "text/x-python",
   "name": "python",
   "nbconvert_exporter": "python",
   "pygments_lexer": "ipython3",
   "version": "3.7.6"
  }
 },
 "nbformat": 4,
 "nbformat_minor": 4
}
