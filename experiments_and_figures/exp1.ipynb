{
 "cells": [
  {
   "cell_type": "code",
   "execution_count": null,
   "metadata": {},
   "outputs": [],
   "source": [
    "RESULTS_FOLDER = \"/path/to/results/folder\""
   ]
  },
  {
   "cell_type": "code",
   "execution_count": null,
   "metadata": {},
   "outputs": [],
   "source": [
    "import os\n",
    "\n",
    "import numpy as np\n",
    "import matplotlib.pyplot as plt\n",
    "import matplotlib\n",
    "import scipy.stats\n",
    "matplotlib.rc('font', family='serif', size=24)\n",
    "matplotlib.rc('errorbar', capsize=3)"
   ]
  },
  {
   "cell_type": "code",
   "execution_count": null,
   "metadata": {},
   "outputs": [],
   "source": [
    "exp = \"adult\"\n",
    "client_extension = os.path.join(\"inv_lambda-1.0_epsilon-0.01_apply_dp-True\", \"data_dp_round_1.npz\")\n",
    "epsilon_prefix = \"split_sym_eq_50_validation_fraction_0.2\"\n",
    "def _load_client_data(exp_name):\n",
    "    return {\n",
    "        1: np.load(os.path.join(RESULTS_FOLDER, exp_name, \"split_sym_eq_1_validation_fraction_0.2\", client_extension)),\n",
    "        25: np.load(os.path.join(RESULTS_FOLDER, exp_name, \"split_sym_eq_25_validation_fraction_0.2\", client_extension)),\n",
    "        50: np.load(os.path.join(RESULTS_FOLDER, exp_name, \"split_sym_eq_50_validation_fraction_0.2\", client_extension)),\n",
    "        100: np.load(os.path.join(RESULTS_FOLDER, exp_name, \"split_sym_eq_100_validation_fraction_0.2\", client_extension)),\n",
    "    }\n",
    "def _load_epsilon_data(exp_name):\n",
    "    return {\n",
    "        0.01: np.load(os.path.join(RESULTS_FOLDER, exp_name, epsilon_prefix, \"inv_lambda-1.0_epsilon-0.01_apply_dp-True\", \"data_dp_round_1.npz\")),\n",
    "        0.1: np.load(os.path.join(RESULTS_FOLDER, exp_name,epsilon_prefix, \"inv_lambda-1.0_epsilon-0.1_apply_dp-True\", \"data_dp_round_1.npz\")),\n",
    "        1.0: np.load(os.path.join(RESULTS_FOLDER, exp_name,epsilon_prefix, \"inv_lambda-1.0_epsilon-1.0_apply_dp-True\", \"data_dp_round_1.npz\")),\n",
    "        10.0: np.load(os.path.join(RESULTS_FOLDER, exp_name,epsilon_prefix, \"inv_lambda-1.0_epsilon-10.0_apply_dp-True\", \"data_dp_round_1.npz\")),\n",
    "    }\n",
    "adult_client_data = _load_client_data(\"adult\")\n",
    "adult_epsilon_data = _load_epsilon_data(\"adult\")\n",
    "kdd_client_data = _load_client_data(\"kdd99\")\n",
    "kdd_epsilon_data = _load_epsilon_data(\"kdd99\")"
   ]
  },
  {
   "cell_type": "code",
   "execution_count": null,
   "metadata": {},
   "outputs": [],
   "source": [
    "def plot(ax, title_to_client_data, x_label, logscale = False, legend = False, ylabel=False):\n",
    "    ax.grid(which='both', axis='both')\n",
    "    if ylabel:\n",
    "        ax.set_ylabel('Model F1\\n Score ($m_k$)')\n",
    "    ax.set_xlabel(x_label)\n",
    "    ax.set_ybound(0.0, 1.25)\n",
    "    ax.set_autoscalex_on(False)\n",
    "    ax.minorticks_on()\n",
    "    if logscale:\n",
    "        ax.set_xscale('log')\n",
    "        ax.set_xbound(10**(-2.5), 10**(1.5))\n",
    "        ax.set_xticks([1e-2, 1e-1, 1, 10], minor=False)\n",
    "        ax.set_xticks([], minor=True)\n",
    "        ax.set_xticklabels([], minor=True)\n",
    "    else:\n",
    "        ax.set_xbound(-5, 105)\n",
    "        ax.set_xticks([0, 50, 100], minor=False)\n",
    "        ax.set_xticks([25, 75], minor=True)\n",
    "    ax.set_yticks([0, 0.5, 1.0], minor=False)\n",
    "    ax.set_yticks([0.25, 0.75], minor=True)\n",
    "    ax.set_autoscaley_on(False)\n",
    "    \n",
    "    fmts = [['ok', 'yD']]  # , ['ro', 'cp']\n",
    "\n",
    "    for fmt, (title, client_data) in zip(fmts, title_to_client_data.items()):\n",
    "        ax.set_title(title)\n",
    "        xs = list(client_data.keys())\n",
    "        gt_ys = []\n",
    "        gt_errors = []\n",
    "        median_ys = []\n",
    "        median_errors = []\n",
    "        for data in client_data.values():\n",
    "            ground_truth_scores = data['ground_truth_scores']\n",
    "            mean_ground_truth = np.mean(ground_truth_scores)\n",
    "            stdev_ground_truth = np.std(ground_truth_scores)\n",
    "            gt_ys.append(mean_ground_truth)\n",
    "            gt_errors.append(stdev_ground_truth)\n",
    "\n",
    "            model_scores = data['model_scores']\n",
    "            mean_model = np.mean(model_scores)\n",
    "            stdev_model = np.std(model_scores)\n",
    "            median_ys.append(mean_model)\n",
    "            median_errors.append(stdev_model)\n",
    "\n",
    "            abs_diff = np.abs(model_scores - ground_truth_scores)\n",
    "            mean_abs_diff = np.mean(abs_diff)\n",
    "            mean_abs_diff_percent = mean_abs_diff / mean_ground_truth\n",
    "            print(\"mean_abs_diff_percent\", mean_abs_diff_percent)\n",
    "\n",
    "        ax.errorbar(xs, median_ys, fmt=fmt[0], label=f'Median Agent', markersize=20, linewidth=3)\n",
    "        ax.errorbar(xs, gt_ys, fmt=fmt[1], label=f'Test Dataset', markersize=10, linewidth=3)\n",
    "    if legend:\n",
    "        ax.legend(loc='center left', bbox_to_anchor=(1.1, 0.5))"
   ]
  },
  {
   "cell_type": "code",
   "execution_count": null,
   "metadata": {},
   "outputs": [],
   "source": [
    "fig, (ax1, ax2, ax3, ax4) = plt.subplots(1, 4, sharey=True, figsize=(22,4))\n",
    "plot(ax1, {\"Adult\": adult_client_data}, \"# of Agents\", ylabel=True)\n",
    "plot(ax2, {\"KDD\": kdd_client_data}, \"# of Agents\")\n",
    "plot(ax3, {\"Adult\": adult_epsilon_data},\"$\\epsilon$\", logscale=True)\n",
    "plot(ax4, {\"KDD\": kdd_epsilon_data}, \"$\\epsilon$\", logscale=True, legend=True)\n",
    "\n",
    "\n",
    "# plot(ax3, ax4, {\"Adult\": adult_epsilon_data, \"KDD\": kdd_epsilon_data}, \"$\\epsilon$\", logscale=True, legend=True)\n",
    "plt.tight_layout()\n",
    "plt.savefig(\"exp1.pdf\")\n",
    "plt"
   ]
  }
 ],
 "metadata": {
  "environment": {
   "name": "common-cpu.m46",
   "type": "gcloud",
   "uri": "gcr.io/deeplearning-platform-release/base-cpu:m46"
  },
  "kernelspec": {
   "display_name": "Python 3",
   "language": "python",
   "name": "python3"
  },
  "language_info": {
   "codemirror_mode": {
    "name": "ipython",
    "version": 3
   },
   "file_extension": ".py",
   "mimetype": "text/x-python",
   "name": "python",
   "nbconvert_exporter": "python",
   "pygments_lexer": "ipython3",
   "version": "3.7.6"
  }
 },
 "nbformat": 4,
 "nbformat_minor": 4
}
