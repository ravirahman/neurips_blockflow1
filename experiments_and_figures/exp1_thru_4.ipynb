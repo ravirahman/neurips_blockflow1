{
 "cells": [
  {
   "cell_type": "code",
   "execution_count": null,
   "metadata": {},
   "outputs": [],
   "source": [
    "RESULTS_FOLDER = \"/path/to/results/folder\"\n",
    "RESULTS_FOLDER = \"/path/to/results/folder\"\n",
    "DATA_FOLDER = \"/path/to/data/folder\""
   ]
  },
  {
   "cell_type": "code",
   "execution_count": null,
   "metadata": {},
   "outputs": [],
   "source": [
    "# Build blockflow\n",
    "!docker build -t blockflow ../src"
   ]
  },
  {
   "cell_type": "code",
   "execution_count": null,
   "metadata": {},
   "outputs": [],
   "source": [
    "import os"
   ]
  },
  {
   "cell_type": "code",
   "execution_count": null,
   "metadata": {},
   "outputs": [],
   "source": [
    "def run_simulated_experiment(exp_name, epsilon, dataset_folder, inv_lambda=1.0, num_dp_rounds=1):\n",
    "    num_clients = len(list(os.listdir(os.path.join(DATA_FOLDER, dataset_folder))))\n",
    "    num_cpus = \"4.0\"\n",
    "    epsilon_str = \"{:.6f}\".format(epsilon)\n",
    "    apply_dp_str = \"--apply_dp\" if epsilon is not None else \"\"\n",
    "    if exp_name == \"adult\":\n",
    "        ground_truth_dataset = \"/data/adult/test.dat\"\n",
    "    elif exp_name == \"kdd99\":\n",
    "        ground_truth_dataset = \"/data/kddcup.data/normal_test.dat\"\n",
    "    print(f\"Starting experiment {exp_name} with with {num_clients} clients with {num_cpus} total\")\n",
    "    !docker run --rm -d -v {DATA_FOLDER}:/data -v {RESULTS_FOLDER}:/results --net=host \\\n",
    "        -e MKL_NUM_THREADS=4 -e OPENBLAS_NUM_THREADS=4 -e NUMEXPR_NUM_THREADS=4 \\\n",
    "        --cpus={num_cpus} \\\n",
    "        blockflow python3 -m examples.logistic_regression.simulate_clients \\\n",
    "        --exp_name {exp_name} \\\n",
    "        --inv_lambda {inv_lambda} \\\n",
    "        --epsilon {epsilon_str} \\\n",
    "        {apply_dp_str} \\\n",
    "        --num_dp_rounds {num_dp_rounds} \\\n",
    "        --dataset_folder /data/{dataset_folder} \\\n",
    "        --ground_truth_dataset {ground_truth_dataset}\n",
    "    # subprocess.check_call(filter(lambda x: len(x) > 0, \"\".split(\" \")), stdout=subprocess.STDOUT, stderr=subprocess.STDOUT)"
   ]
  },
  {
   "cell_type": "markdown",
   "metadata": {},
   "source": [
    "## Varying epsilon"
   ]
  },
  {
   "cell_type": "markdown",
   "metadata": {},
   "source": [
    "### Adult, Laplace"
   ]
  },
  {
   "cell_type": "code",
   "execution_count": null,
   "metadata": {},
   "outputs": [],
   "source": [
    "run_simulated_experiment('adult', 0.01, \"adult/split_sym_eq_50_validation_fraction_0.2\", num_dp_rounds=3)"
   ]
  },
  {
   "cell_type": "code",
   "execution_count": null,
   "metadata": {},
   "outputs": [],
   "source": [
    "run_simulated_experiment('adult', 0.1, \"adult/split_sym_eq_50_validation_fraction_0.2\", num_dp_rounds=3)"
   ]
  },
  {
   "cell_type": "code",
   "execution_count": null,
   "metadata": {},
   "outputs": [],
   "source": [
    "run_simulated_experiment('adult', 1.0, \"adult/split_sym_eq_50_validation_fraction_0.2\", num_dp_rounds=3)"
   ]
  },
  {
   "cell_type": "code",
   "execution_count": null,
   "metadata": {},
   "outputs": [],
   "source": [
    "run_simulated_experiment('adult', 10, \"adult/split_sym_eq_50_validation_fraction_0.2\", num_dp_rounds=3)"
   ]
  },
  {
   "cell_type": "markdown",
   "metadata": {},
   "source": [
    "### Kdd, Laplace"
   ]
  },
  {
   "cell_type": "code",
   "execution_count": null,
   "metadata": {},
   "outputs": [],
   "source": [
    "run_simulated_experiment('kdd99', 0.01, \"kddcup.data/split_sym_eq_50_validation_fraction_0.2\", num_dp_rounds=3)"
   ]
  },
  {
   "cell_type": "code",
   "execution_count": null,
   "metadata": {},
   "outputs": [],
   "source": [
    "run_simulated_experiment('kdd99', 0.1, \"kddcup.data/split_sym_eq_50_validation_fraction_0.2\", num_dp_rounds=3)"
   ]
  },
  {
   "cell_type": "code",
   "execution_count": null,
   "metadata": {},
   "outputs": [],
   "source": [
    "run_simulated_experiment('kdd99', 1.0, \"kddcup.data/split_sym_eq_50_validation_fraction_0.2\", num_dp_rounds=3)"
   ]
  },
  {
   "cell_type": "code",
   "execution_count": null,
   "metadata": {},
   "outputs": [],
   "source": [
    "run_simulated_experiment('kdd99', 10.0, \"kddcup.data/split_sym_eq_50_validation_fraction_0.2\", num_dp_rounds=3)"
   ]
  },
  {
   "cell_type": "markdown",
   "metadata": {},
   "source": [
    "## Varying # of clients"
   ]
  },
  {
   "cell_type": "markdown",
   "metadata": {},
   "source": [
    "### Adult"
   ]
  },
  {
   "cell_type": "code",
   "execution_count": null,
   "metadata": {},
   "outputs": [],
   "source": [
    "run_simulated_experiment('adult', 0.01, \"adult/split_sym_eq_1_validation_fraction_0.2\", num_dp_rounds=3)"
   ]
  },
  {
   "cell_type": "code",
   "execution_count": null,
   "metadata": {},
   "outputs": [],
   "source": [
    "run_simulated_experiment('adult', 0.01, \"adult/split_sym_eq_25_validation_fraction_0.2\", num_dp_rounds=3)"
   ]
  },
  {
   "cell_type": "markdown",
   "metadata": {},
   "source": [
    "Reuse the 50 from above"
   ]
  },
  {
   "cell_type": "code",
   "execution_count": null,
   "metadata": {},
   "outputs": [],
   "source": [
    "run_simulated_experiment('adult', 0.01, \"adult/split_sym_eq_100_validation_fraction_0.2\", num_dp_rounds=3)"
   ]
  },
  {
   "cell_type": "markdown",
   "metadata": {},
   "source": [
    "### KDD"
   ]
  },
  {
   "cell_type": "code",
   "execution_count": null,
   "metadata": {},
   "outputs": [],
   "source": [
    "run_simulated_experiment('kdd99', 0.01, \"kddcup.data/split_sym_eq_1_validation_fraction_0.2\", num_dp_rounds=3)"
   ]
  },
  {
   "cell_type": "code",
   "execution_count": null,
   "metadata": {},
   "outputs": [],
   "source": [
    "run_simulated_experiment('kdd99', 0.01, \"kddcup.data/split_sym_eq_25_validation_fraction_0.2\", num_dp_rounds=3)"
   ]
  },
  {
   "cell_type": "markdown",
   "metadata": {},
   "source": [
    "Reuse the 50 from above"
   ]
  },
  {
   "cell_type": "code",
   "execution_count": null,
   "metadata": {},
   "outputs": [],
   "source": [
    "run_simulated_experiment('kdd99', 0.01, \"kddcup.data/split_sym_eq_100_validation_fraction_0.2\", num_dp_rounds=3)"
   ]
  },
  {
   "cell_type": "markdown",
   "metadata": {},
   "source": [
    "## Clients with More Data"
   ]
  },
  {
   "cell_type": "markdown",
   "metadata": {},
   "source": [
    "### Adult"
   ]
  },
  {
   "cell_type": "code",
   "execution_count": null,
   "metadata": {},
   "outputs": [],
   "source": [
    "run_simulated_experiment('adult', 0.01, \"adult/split_sym_neq_50x0.125_validation_fraction_0.2\")"
   ]
  },
  {
   "cell_type": "code",
   "execution_count": null,
   "metadata": {},
   "outputs": [],
   "source": [
    "run_simulated_experiment('adult', 0.01, \"adult/split_sym_neq_50x0.25_validation_fraction_0.2\")"
   ]
  },
  {
   "cell_type": "code",
   "execution_count": null,
   "metadata": {},
   "outputs": [],
   "source": [
    "run_simulated_experiment('adult', 0.01, \"adult/split_sym_neq_50x0.5_validation_fraction_0.2\")"
   ]
  },
  {
   "cell_type": "code",
   "execution_count": null,
   "metadata": {},
   "outputs": [],
   "source": [
    "run_simulated_experiment('adult', 0.01, \"adult/split_sym_neq_50x0.75_validation_fraction_0.2\")"
   ]
  },
  {
   "cell_type": "code",
   "execution_count": null,
   "metadata": {},
   "outputs": [],
   "source": [
    "run_simulated_experiment('adult', 0.01, \"adult/split_sym_neq_50x1_validation_fraction_0.2\")"
   ]
  },
  {
   "cell_type": "code",
   "execution_count": null,
   "metadata": {},
   "outputs": [],
   "source": [
    "run_simulated_experiment('adult', 0.01, \"adult/split_sym_neq_50x1.5_validation_fraction_0.2\")"
   ]
  },
  {
   "cell_type": "code",
   "execution_count": null,
   "metadata": {},
   "outputs": [],
   "source": [
    "run_simulated_experiment('adult', 0.01, \"adult/split_sym_neq_50x2_validation_fraction_0.2\")"
   ]
  },
  {
   "cell_type": "code",
   "execution_count": null,
   "metadata": {},
   "outputs": [],
   "source": [
    "run_simulated_experiment('adult', 0.01, \"adult/split_sym_neq_50x4_validation_fraction_0.2\")"
   ]
  },
  {
   "cell_type": "markdown",
   "metadata": {},
   "source": [
    "### KDD"
   ]
  },
  {
   "cell_type": "code",
   "execution_count": null,
   "metadata": {},
   "outputs": [],
   "source": [
    "run_simulated_experiment('kdd99', 0.01, \"kddcup.data/split_sym_neq_50x0.125_validation_fraction_0.2\")"
   ]
  },
  {
   "cell_type": "code",
   "execution_count": null,
   "metadata": {},
   "outputs": [],
   "source": [
    "run_simulated_experiment('kdd99', 0.01, \"kddcup.data/split_sym_neq_50x0.25_validation_fraction_0.2\")"
   ]
  },
  {
   "cell_type": "code",
   "execution_count": null,
   "metadata": {},
   "outputs": [],
   "source": [
    "run_simulated_experiment('kdd99', 0.01, \"kddcup.data/split_sym_neq_50x0.5_validation_fraction_0.2\")"
   ]
  },
  {
   "cell_type": "code",
   "execution_count": null,
   "metadata": {},
   "outputs": [],
   "source": [
    "run_simulated_experiment('kdd99', 0.01, \"kddcup.data/split_sym_neq_50x0.75_validation_fraction_0.2\")"
   ]
  },
  {
   "cell_type": "code",
   "execution_count": null,
   "metadata": {},
   "outputs": [],
   "source": [
    "run_simulated_experiment('kdd99', 0.01, \"kddcup.data/split_sym_neq_50x1.5_validation_fraction_0.2\")"
   ]
  },
  {
   "cell_type": "code",
   "execution_count": null,
   "metadata": {},
   "outputs": [],
   "source": [
    "run_simulated_experiment('kdd99', 0.01, \"kddcup.data/split_sym_neq_50x2_validation_fraction_0.2\")"
   ]
  },
  {
   "cell_type": "code",
   "execution_count": null,
   "metadata": {},
   "outputs": [],
   "source": [
    "run_simulated_experiment('kdd99', 0.01, \"kddcup.data/split_sym_neq_50x4_validation_fraction_0.2\")"
   ]
  },
  {
   "cell_type": "markdown",
   "metadata": {},
   "source": [
    "## Attack - Random"
   ]
  },
  {
   "cell_type": "code",
   "execution_count": null,
   "metadata": {},
   "outputs": [],
   "source": [
    "run_simulated_experiment('adult', 0.01, \"adult/split_attack_random_50_one_validation_fraction_0.2\")"
   ]
  },
  {
   "cell_type": "code",
   "execution_count": null,
   "metadata": {},
   "outputs": [],
   "source": [
    "run_simulated_experiment('adult', 0.01, \"adult/split_attack_random_50_quarter_validation_fraction_0.2\")"
   ]
  },
  {
   "cell_type": "code",
   "execution_count": null,
   "metadata": {},
   "outputs": [],
   "source": [
    "run_simulated_experiment('adult', 0.01, \"adult/split_attack_random_50_half_validation_fraction_0.2\")"
   ]
  },
  {
   "cell_type": "code",
   "execution_count": null,
   "metadata": {},
   "outputs": [],
   "source": [
    "run_simulated_experiment('kdd99', 0.01, \"kddcup.data/split_attack_random_50_one_validation_fraction_0.2\")"
   ]
  },
  {
   "cell_type": "code",
   "execution_count": null,
   "metadata": {},
   "outputs": [],
   "source": [
    "run_simulated_experiment('kdd99', 0.01, \"kddcup.data/split_attack_random_50_quarter_validation_fraction_0.2\")"
   ]
  },
  {
   "cell_type": "code",
   "execution_count": null,
   "metadata": {},
   "outputs": [],
   "source": [
    "run_simulated_experiment('kdd99', 0.01, \"kddcup.data/split_attack_random_50_half_validation_fraction_0.2\")"
   ]
  },
  {
   "cell_type": "markdown",
   "metadata": {},
   "source": [
    "## Attack - Inverted"
   ]
  },
  {
   "cell_type": "markdown",
   "metadata": {},
   "source": [
    "### Adult"
   ]
  },
  {
   "cell_type": "code",
   "execution_count": null,
   "metadata": {},
   "outputs": [],
   "source": [
    "run_simulated_experiment('adult', 0.01, \"adult/split_attack_inverted_50_one_validation_fraction_0.2\")"
   ]
  },
  {
   "cell_type": "code",
   "execution_count": null,
   "metadata": {},
   "outputs": [],
   "source": [
    "run_simulated_experiment('adult', 0.01, \"adult/split_attack_inverted_50_quarter_validation_fraction_0.2\")"
   ]
  },
  {
   "cell_type": "code",
   "execution_count": null,
   "metadata": {},
   "outputs": [],
   "source": [
    "run_simulated_experiment('adult', 0.01, \"adult/split_attack_inverted_50_half_validation_fraction_0.2\")"
   ]
  },
  {
   "cell_type": "markdown",
   "metadata": {},
   "source": [
    "### KDD"
   ]
  },
  {
   "cell_type": "code",
   "execution_count": null,
   "metadata": {},
   "outputs": [],
   "source": [
    "run_simulated_experiment('kdd99', 0.01, \"kddcup.data/split_attack_inverted_50_one_validation_fraction_0.2\")"
   ]
  },
  {
   "cell_type": "code",
   "execution_count": null,
   "metadata": {},
   "outputs": [],
   "source": [
    "run_simulated_experiment('kdd99', 0.01, \"kddcup.data/split_attack_inverted_50_quarter_validation_fraction_0.2\")"
   ]
  },
  {
   "cell_type": "code",
   "execution_count": null,
   "metadata": {},
   "outputs": [],
   "source": [
    "run_simulated_experiment('kdd99', 0.01, \"kddcup.data/split_attack_inverted_50_half_validation_fraction_0.2\")"
   ]
  },
  {
   "cell_type": "code",
   "execution_count": null,
   "metadata": {},
   "outputs": [],
   "source": []
  }
 ],
 "metadata": {
  "environment": {
   "name": "common-cpu.m46",
   "type": "gcloud",
   "uri": "gcr.io/deeplearning-platform-release/base-cpu:m46"
  },
  "kernelspec": {
   "display_name": "Python 3",
   "language": "python",
   "name": "python3"
  },
  "language_info": {
   "codemirror_mode": {
    "name": "ipython",
    "version": 3
   },
   "file_extension": ".py",
   "mimetype": "text/x-python",
   "name": "python",
   "nbconvert_exporter": "python",
   "pygments_lexer": "ipython3",
   "version": "3.7.6"
  }
 },
 "nbformat": 4,
 "nbformat_minor": 4
}
