{
 "cells": [
  {
   "cell_type": "code",
   "execution_count": null,
   "metadata": {},
   "outputs": [],
   "source": [
    "RESULTS_FOLDER = \"/path/to/results/folder\""
   ]
  },
  {
   "cell_type": "code",
   "execution_count": null,
   "metadata": {},
   "outputs": [],
   "source": [
    "import os\n",
    "\n",
    "import numpy as np\n",
    "import matplotlib.pyplot as plt\n",
    "import matplotlib\n",
    "import scipy.stats\n",
    "matplotlib.rc('font', family='serif', size=24)\n",
    "matplotlib.rc('errorbar', capsize=3)"
   ]
  },
  {
   "cell_type": "code",
   "execution_count": null,
   "metadata": {},
   "outputs": [],
   "source": [
    "suffix = os.path.join(\"inv_lambda-1.0_epsilon-0.01_apply_dp-True\", \"data_dp_round_1.npz\")\n",
    "def _load_client_data(exp_name):\n",
    "    return {\n",
    "        (0.125, 10): np.load(os.path.join(RESULTS_FOLDER, exp_name, \"split_sym_neq_50x0.125_validation_fraction_0.2\", suffix)),\n",
    "        (0.25, 10): np.load(os.path.join(RESULTS_FOLDER, exp_name, \"split_sym_neq_50x0.25_validation_fraction_0.2\", suffix)),\n",
    "        (0.5, 10): np.load(os.path.join(RESULTS_FOLDER, exp_name, \"split_sym_neq_50x0.5_validation_fraction_0.2\", suffix)),\n",
    "        (0.75, 10): np.load(os.path.join(RESULTS_FOLDER, exp_name, \"split_sym_neq_50x0.75_validation_fraction_0.2\", suffix)),\n",
    "        (1.0, 10): np.load(os.path.join(RESULTS_FOLDER, exp_name, \"split_sym_eq_50_validation_fraction_0.2\", suffix)),\n",
    "        (1.5, 10): np.load(os.path.join(RESULTS_FOLDER, exp_name, \"split_sym_neq_50x1.5_validation_fraction_0.2\", suffix)),\n",
    "        (2.0, 10): np.load(os.path.join(RESULTS_FOLDER, exp_name, \"split_sym_neq_50x2_validation_fraction_0.2\", suffix)),\n",
    "        (4.0, 10): np.load(os.path.join(RESULTS_FOLDER, exp_name, \"split_sym_neq_50x4_validation_fraction_0.2\", suffix)),\n",
    "    }\n",
    "adult_client_data = _load_client_data(\"adult\")\n",
    "kdd_client_data = _load_client_data(\"kdd99\")"
   ]
  },
  {
   "cell_type": "code",
   "execution_count": null,
   "metadata": {},
   "outputs": [],
   "source": [
    "def convert_width(p, w):\n",
    "    return 10**(np.log10(p)+w/2.)-10**(np.log10(p)-w/2.)\n",
    "\n",
    "\n",
    "def plot(ax, label_to_client_data, title, series, ylabel: bool = False, legend = False):\n",
    "    ax.set_title(title)\n",
    "    ax.grid(which='both', axis='both')\n",
    "    ax.minorticks_on()\n",
    "    \n",
    "    ax.set_xscale('log')\n",
    "    ax.set_xlabel(\"Relative Dataset Size\")\n",
    "    ax.set_xbound(0.0625, 8.0)\n",
    "    ax.set_xticks([0.25, 1.0, 4.0], minor=False)\n",
    "    ax.set_xticks([0.125, 0.5, 2.0], minor=True)\n",
    "    ax.xaxis.set_minor_formatter(plt.NullFormatter())\n",
    "    ax.set_autoscalex_on(False)\n",
    "    ax.set_xticklabels(['{:.2f}'.format(x) for x in ax.get_xticks()])\n",
    "    \n",
    "    if ylabel:\n",
    "        ax.set_ylabel(\"Score\\n %tile\")\n",
    "    ax.set_ybound(0.0, 1.0)\n",
    "    ax.set_yticks([0, 0.5, 1.0], minor=False)\n",
    "    ax.set_yticks([0.25, 0.75], minor=True)\n",
    "    ax.set_autoscaley_on(False)\n",
    "    ax.set_yticklabels(['{:,.0%}'.format(x) for x in ax.get_yticks()])\n",
    "\n",
    "    fmts = ['gD', 'ro']\n",
    "    markersizes = (18, 24)\n",
    "    \n",
    "    for fmt, markersize, (label, client_data) in zip(fmts, markersizes, label_to_client_data.items()):\n",
    "        xs = np.array(list(key[0] for key in client_data.keys()))\n",
    "        means_pct = []\n",
    "        lower_pct_errors = []\n",
    "        upper_pct_errors = []\n",
    "        for (x, num_special_clients), data in client_data.items():\n",
    "            all_scores = np.squeeze(data[series])\n",
    "            special_y = all_scores[:num_special_clients]\n",
    "            mean = np.mean(special_y)\n",
    "            mean_pct = scipy.stats.percentileofscore(all_scores, mean, kind='strict') / 100\n",
    "            means_pct.append(mean_pct)\n",
    "            std = np.std(special_y)\n",
    "            lower_pct = scipy.stats.percentileofscore(all_scores, mean - std, kind='strict') / 100\n",
    "            lower_pct_errors.append(mean_pct - lower_pct)\n",
    "            upper_pct = scipy.stats.percentileofscore(all_scores, mean + std, kind='strict') / 100\n",
    "            upper_pct_errors.append(upper_pct - mean_pct)\n",
    "        correlation = scipy.stats.pearsonr(np.log10(xs), means_pct)\n",
    "        print(\"correlation\", correlation)\n",
    "        lw = 1 \n",
    "        # yerr=[lower_pct_errors, upper_pct_errors]\n",
    "        ax.errorbar(xs, means_pct, fmt=fmt, label=label, markersize=12, linewidth=lw)\n",
    "    if legend:\n",
    "        ax.legend(loc='center left', bbox_to_anchor=(1.1, 0.5))"
   ]
  },
  {
   "cell_type": "code",
   "execution_count": null,
   "metadata": {},
   "outputs": [],
   "source": [
    "fig, (ax1, ax2, ax3) = plt.subplots(1, 3, figsize=(22,4), sharey=True)\n",
    "label_to_client_data = {\n",
    "    \"Adult\": adult_client_data,\n",
    "    \"KDD\": kdd_client_data\n",
    "}\n",
    "plot(ax1, label_to_client_data, title=\"Model Score ($m_k$)\", series=\"model_scores\", ylabel=True)\n",
    "plot(ax2, label_to_client_data, title=\"Evaluation Score ($d_k$)\", series=\"auditor_score\")\n",
    "plot(ax3, label_to_client_data, title=\"Overall Score ($p_k$)\", series=\"overall_score\", legend=True)\n",
    "\n",
    "plt.tight_layout()\n",
    "plt.savefig(\"exp2.pdf\")\n",
    "plt"
   ]
  }
 ],
 "metadata": {
  "environment": {
   "name": "common-cpu.m46",
   "type": "gcloud",
   "uri": "gcr.io/deeplearning-platform-release/base-cpu:m46"
  },
  "kernelspec": {
   "display_name": "Python 3",
   "language": "python",
   "name": "python3"
  },
  "language_info": {
   "codemirror_mode": {
    "name": "ipython",
    "version": 3
   },
   "file_extension": ".py",
   "mimetype": "text/x-python",
   "name": "python",
   "nbconvert_exporter": "python",
   "pygments_lexer": "ipython3",
   "version": "3.7.6"
  }
 },
 "nbformat": 4,
 "nbformat_minor": 4
}
