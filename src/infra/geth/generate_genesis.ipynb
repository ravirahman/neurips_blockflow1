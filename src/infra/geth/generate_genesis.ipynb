{
 "cells": [
  {
   "cell_type": "code",
   "execution_count": null,
   "metadata": {},
   "outputs": [],
   "source": [
    "import eth_account\n",
    "import json"
   ]
  },
  {
   "cell_type": "code",
   "execution_count": null,
   "metadata": {},
   "outputs": [],
   "source": [
    "genesis = {\n",
    "    \"config\": {\n",
    "        \"chainId\": 58,\n",
    "        \"homesteadBlock\": 0,\n",
    "        \"eip150Block\": 0,\n",
    "        \"eip155Block\": 0,\n",
    "        \"eip158Block\": 0,\n",
    "        \"byzantiumBlock\": 0,\n",
    "        \"constantinopleBlock\": 0,\n",
    "        \"petersburgBlock\": 0,\n",
    "        \"istanbulBlock\": 0,\n",
    "        \"clique\": {\n",
    "            \"period\": 1,\n",
    "            \"epoch\": 30000\n",
    "        }\n",
    "    },\n",
    "    \"alloc\": {},\n",
    "    \"coinbase\": \"0x0000000000000000000000000000000000000000\",\n",
    "    \"difficulty\": \"0x0\",\n",
    "    \"extraData\": \"0x0000000000000000000000000000000000000000000000000000000000000000a019f75409223cfc5453df2f2fe15f3746f012b60000000000000000000000000000000000000000000000000000000000000000000000000000000000000000000000000000000000000000000000000000000000\",\n",
    "    \"gasLimit\": \"0x8FFFFF\",\n",
    "    \"nonce\": \"0x0000000000000042\",\n",
    "    \"mixhash\": \"0x0000000000000000000000000000000000000000000000000000000000000000\",\n",
    "    \"parentHash\": \"0x0000000000000000000000000000000000000000000000000000000000000000\",\n",
    "    \"timestamp\": \"0x00\"\n",
    "}"
   ]
  },
  {
   "cell_type": "code",
   "execution_count": null,
   "metadata": {},
   "outputs": [],
   "source": [
    "private_keys = []\n",
    "\n",
    "for _ in range(101):\n",
    "    acct = eth_account.Account.create()\n",
    "    address = acct.address\n",
    "    key = acct.key\n",
    "    genesis['alloc'][address] = { \"balance\": \"1000000000000000000000\"}\n",
    "    private_keys.append(key.hex())"
   ]
  },
  {
   "cell_type": "code",
   "execution_count": null,
   "metadata": {},
   "outputs": [],
   "source": [
    "print(json.dumps(genesis,indent=True))"
   ]
  },
  {
   "cell_type": "code",
   "execution_count": null,
   "metadata": {},
   "outputs": [],
   "source": [
    "print(private_keys)"
   ]
  }
 ],
 "metadata": {
  "environment": {
   "name": "common-cpu.m46",
   "type": "gcloud",
   "uri": "gcr.io/deeplearning-platform-release/base-cpu:m46"
  },
  "kernelspec": {
   "display_name": "Python 3",
   "language": "python",
   "name": "python3"
  },
  "language_info": {
   "codemirror_mode": {
    "name": "ipython",
    "version": 3
   },
   "file_extension": ".py",
   "mimetype": "text/x-python",
   "name": "python",
   "nbconvert_exporter": "python",
   "pygments_lexer": "ipython3",
   "version": "3.7.6"
  }
 },
 "nbformat": 4,
 "nbformat_minor": 4
}
